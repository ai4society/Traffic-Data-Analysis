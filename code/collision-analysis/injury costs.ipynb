{
 "cells": [
  {
   "cell_type": "code",
   "execution_count": 42,
   "id": "eb5419c3",
   "metadata": {},
   "outputs": [],
   "source": [
    "import pandas as pd\n",
    "import matplotlib.pyplot as plt\n",
    "import numpy as np\n",
    "from ipywidgets import interact"
   ]
  },
  {
   "cell_type": "code",
   "execution_count": 43,
   "id": "d41fd636",
   "metadata": {},
   "outputs": [
    {
     "data": {
      "text/html": [
       "<div>\n",
       "<style scoped>\n",
       "    .dataframe tbody tr th:only-of-type {\n",
       "        vertical-align: middle;\n",
       "    }\n",
       "\n",
       "    .dataframe tbody tr th {\n",
       "        vertical-align: top;\n",
       "    }\n",
       "\n",
       "    .dataframe thead th {\n",
       "        text-align: right;\n",
       "    }\n",
       "</style>\n",
       "<table border=\"1\" class=\"dataframe\">\n",
       "  <thead>\n",
       "    <tr style=\"text-align: right;\">\n",
       "      <th></th>\n",
       "      <th>Injury</th>\n",
       "      <th>Cost</th>\n",
       "    </tr>\n",
       "  </thead>\n",
       "  <tbody>\n",
       "    <tr>\n",
       "      <th>0</th>\n",
       "      <td>Death</td>\n",
       "      <td>1869000</td>\n",
       "    </tr>\n",
       "    <tr>\n",
       "      <th>1</th>\n",
       "      <td>Disabling</td>\n",
       "      <td>162000</td>\n",
       "    </tr>\n",
       "    <tr>\n",
       "      <th>2</th>\n",
       "      <td>Evident</td>\n",
       "      <td>42000</td>\n",
       "    </tr>\n",
       "    <tr>\n",
       "      <th>3</th>\n",
       "      <td>Possible</td>\n",
       "      <td>26000</td>\n",
       "    </tr>\n",
       "    <tr>\n",
       "      <th>4</th>\n",
       "      <td>No injury observed</td>\n",
       "      <td>7100</td>\n",
       "    </tr>\n",
       "  </tbody>\n",
       "</table>\n",
       "</div>"
      ],
      "text/plain": [
       "               Injury     Cost\n",
       "0               Death  1869000\n",
       "1           Disabling   162000\n",
       "2             Evident    42000\n",
       "3            Possible    26000\n",
       "4  No injury observed     7100"
      ]
     },
     "execution_count": 43,
     "metadata": {},
     "output_type": "execute_result"
    }
   ],
   "source": [
    "injury = pd.read_csv('cost of injury.csv')\n",
    "loc2018 = pd.read_csv('./data/sc_loc2018.csv')\n",
    "unt2018 = pd.read_csv('./data/sc_unt2018.csv', low_memory=False)\n",
    "loc2021 = pd.read_csv('./data/sc_loc2021.csv', low_memory=False)\n",
    "unt2021 = pd.read_csv('./data/sc_unt2021.csv', low_memory=False)\n",
    "loc2018.rename(columns = {'ano':'Collision Number', 'tway':'Trafficway','typ':'Type of Record (L-Location data)', 'day':'Day of Week',\n",
    "                 'rai':'On Route Auxiliary','loa':'Lane Number of Collision','odr':'Base Distance Direction', 'alc':'Light Condition', 'wcc':'Weather Condition',\n",
    "                 'ahc':'Road Condition', 'rsc':'Road Surface Conition', 'hel':'First Harmful Event Location',\n",
    "                 'xwk':'Crosswalk Indicator', 'dat':'Date of Collision', 'als':'On Route Street Name','jur':'Investigating Jurisdiction Code', \n",
    "                 'fat':'Number of Fatalities', 'inj':'Number of Non-Fatal Injuries','acd':'Amended or Corrected Indicator', 'bir':'Base Intersection Route Category', \n",
    "                 'bra':'Base Intersection Route Auxiliary', 'sic':'Second Intersection Route Category', 'sra':'Second Intersection Route Auxiliary', 'alsb':'Base Intersection Street Name',\n",
    "                 'bus':'Number of Buses', 'trm':'Number of Persons Transported Immediately', 'tow':'Number of Towed Units',\n",
    "                 'lat':'Latitude of Collision (special format)', 'lon':'Longitude of Collision (special format)', 'jct':'Junction Type','ocf1':'Other Contributing Factor 1','ocf2':'Other Contributing Factor 2','ocf3':'Other Contributing Factor 3',\n",
    "                 'ocf4':'Other Contributing Factor 4', 'ibus':'School Bus Involved', 'wzn':'Work Zone Indicator','wzt':'Work Zone Type',\n",
    "                 'wzl':'Work Zone Location','wpr':'Workers Present Indicator','bno':'Currently Junk field, was Badge Number of Investigating Officer',\n",
    "                 'tct':'Traffic Control Type','unt':'Number of Units (Vehicle and Non-Motorists)','cty':'County of Collision',\n",
    "                 'fhe':'First Harmful Event','prc':'Primary Contributing Factor','rct':'On Route Category','adid':'Alcohol/Drug Involved Driver in Collision',\n",
    "                 'dlr':'Direction of Lane', 'rtn':'On Route Street Number','brn':'Base Intersetion Street Number','srn':'Second Intersection Street Number', 'tim':'Military Time of Collision',\n",
    "                 'bdo':'Base Distance Offset (from collision location to the base intersection in miles)','pnt':'Military Time of Police Notification', 'pat':'Military Time of Police Arrival at Scene',\n",
    "                 'alss':'Second Intersection Street Name','hzd':'Currently Junk field'}, inplace = True)\n",
    "loc2021.rename(columns = {'ano':'Collision Number', 'tway':'Trafficway','typ':'Type of Record (L-Location data)', 'day':'Day of Week',\n",
    "                 'rai':'On Route Auxiliary','loa':'Lane Number of Collision','odr':'Base Distance Direction', 'alc':'Light Condition', 'wcc':'Weather Condition',\n",
    "                 'ahc':'Road Condition', 'rsc':'Road Surface Conition', 'hel':'First Harmful Event Location',\n",
    "                 'xwk':'Crosswalk Indicator', 'dat':'Date of Collision', 'als':'On Route Street Name','jur':'Investigating Jurisdiction Code', \n",
    "                 'fat':'Number of Fatalities', 'inj':'Number of Non-Fatal Injuries','acd':'Amended or Corrected Indicator', 'bir':'Base Intersection Route Category', \n",
    "                 'bra':'Base Intersection Route Auxiliary', 'sic':'Second Intersection Route Category', 'sra':'Second Intersection Route Auxiliary', 'alsb':'Base Intersection Street Name',\n",
    "                 'bus':'Number of Buses', 'trm':'Number of Persons Transported Immediately', 'tow':'Number of Towed Units',\n",
    "                 'lat':'Latitude of Collision (special format)', 'lon':'Longitude of Collision (special format)', 'jct':'Junction Type','ocf1':'Other Contributing Factor 1','ocf2':'Other Contributing Factor 2','ocf3':'Other Contributing Factor 3',\n",
    "                 'ocf4':'Other Contributing Factor 4', 'ibus':'School Bus Involved', 'wzn':'Work Zone Indicator','wzt':'Work Zone Type',\n",
    "                 'wzl':'Work Zone Location','wpr':'Workers Present Indicator','bno':'Currently Junk field, was Badge Number of Investigating Officer',\n",
    "                 'tct':'Traffic Control Type','unt':'Number of Units (Vehicle and Non-Motorists)','cty':'County of Collision',\n",
    "                 'fhe':'First Harmful Event','prc':'Primary Contributing Factor','rct':'On Route Category','adid':'Alcohol/Drug Involved Driver in Collision',\n",
    "                 'dlr':'Direction of Lane', 'rtn':'On Route Street Number','brn':'Base Intersetion Street Number','srn':'Second Intersection Street Number', 'tim':'Military Time of Collision',\n",
    "                 'bdo':'Base Distance Offset (from collision location to the base intersection in miles)','pnt':'Military Time of Police Notification', 'pat':'Military Time of Police Arrival at Scene',\n",
    "                 'alss':'Second Intersection Street Name','hzd':'Currently Junk field'}, inplace = True)\n",
    "unt2018.rename(columns = {'adi':'Alcohol/Drug Information','ano':'Collision Number','api':'Action Prior to Impact','atg':'Alcohol Test Given', 'atr2':'Alcohol Test Results','att':'Alcohol Test Type',\n",
    "                     'aun':'Unit Number','bdt':'Vehicle Body Type','cdl':'CDL licensed required','cn2':'Citation Violation Code 2','csn':'Citation Violation Code 1','cta':'Contributed to Collision',\n",
    "                     'dtc':'Drivers License Class','dls':'Drivers License State','dot':'Direction of Travel','drac':'Driver Race','dsex':'Driver Sex','dtg':'Drug Test Given','dtr':'Drug Test Results',\n",
    "                     'dtt':'Drug Test Type','ead':'Unit Damage(in dollars)','ecs':'Estimated Collision Speed','edam':'Extent of Deformity','edp':'Property Damage','fda':'First Deformed Area','man':'Manner of Collision',\n",
    "                     'mda':'Most Deformed Area','mhe':'Most Harmful Event','noc':'Number of Occupants','pd2':'Property Damage 2','rps':'Vehicle Registration Plate State','soe1':'Sequence of Events1','soe2':'Sequence of Events2',\n",
    "                     'soe3':'Sequence of Events3','soe4':'Sequence of Events4','spl':'Speed Limit','tbr':'Truck/Bus Supplemental Form Required','towd':'Towed','uor':'Underride / Override','utc':'Unit Type','vat':'Vehicle Attachments',\n",
    "                     'vin':'Vehicle Identification Number','vmk':'Vehicle Make','vry':'Vehicle Registration Plate Year','vuc':'Vehicle Use', 'dlc':'Drivers License Class'}, inplace = True)\n",
    "unt2021.rename(columns = {'adi':'Alcohol/Drug Information','ano':'Collision Number','api':'Action Prior to Impact','atg':'Alcohol Test Given', 'atr2':'Alcohol Test Results','att':'Alcohol Test Type',\n",
    "                     'aun':'Unit Number','bdt':'Vehicle Body Type','cdl':'CDL licensed required','cn2':'Citation Violation Code 2','csn':'Citation Violation Code 1','cta':'Contributed to Collision',\n",
    "                     'dtc':'Drivers License Class','dls':'Drivers License State','dot':'Direction of Travel','drac':'Driver Race','dsex':'Driver Sex','dtg':'Drug Test Given','dtr':'Drug Test Results',\n",
    "                     'dtt':'Drug Test Type','ead':'Unit Damage(in dollars)','ecs':'Estimated Collision Speed','edam':'Extent of Deformity','edp':'Property Damage','fda':'First Deformed Area','man':'Manner of Collision',\n",
    "                     'mda':'Most Deformed Area','mhe':'Most Harmful Event','noc':'Number of Occupants','pd2':'Property Damage 2','rps':'Vehicle Registration Plate State','soe1':'Sequence of Events1','soe2':'Sequence of Events2',\n",
    "                     'soe3':'Sequence of Events3','soe4':'Sequence of Events4','spl':'Speed Limit','tbr':'Truck/Bus Supplemental Form Required','towd':'Towed','uor':'Underride / Override','utc':'Unit Type','vat':'Vehicle Attachments',\n",
    "                     'vin':'Vehicle Identification Number','vmk':'Vehicle Make','vry':'Vehicle Registration Plate Year','vuc':'Vehicle Use', 'dlc':'Drivers License Class'}, inplace = True)\n",
    "injury.head()"
   ]
  },
  {
   "cell_type": "code",
   "execution_count": 44,
   "id": "8991291c",
   "metadata": {},
   "outputs": [],
   "source": [
    "loc2018 = loc2018[[\"Number of Non-Fatal Injuries\",\"Collision Number\",\"County of Collision\"]]\n",
    "loc2021 = loc2021[[\"Number of Non-Fatal Injuries\",\"Collision Number\",\"County of Collision\"]]\n",
    "unt2018 = unt2018[[\"Unit Damage(in dollars)\",\"Collision Number\"]]\n",
    "unt2021 = unt2021[[\"Unit Damage(in dollars)\",\"Collision Number\"]]"
   ]
  },
  {
   "cell_type": "code",
   "execution_count": 45,
   "id": "fb6e52ab",
   "metadata": {},
   "outputs": [
    {
     "data": {
      "text/html": [
       "<div>\n",
       "<style scoped>\n",
       "    .dataframe tbody tr th:only-of-type {\n",
       "        vertical-align: middle;\n",
       "    }\n",
       "\n",
       "    .dataframe tbody tr th {\n",
       "        vertical-align: top;\n",
       "    }\n",
       "\n",
       "    .dataframe thead th {\n",
       "        text-align: right;\n",
       "    }\n",
       "</style>\n",
       "<table border=\"1\" class=\"dataframe\">\n",
       "  <thead>\n",
       "    <tr style=\"text-align: right;\">\n",
       "      <th></th>\n",
       "      <th>Number of Non-Fatal Injuries</th>\n",
       "      <th>Collision Number</th>\n",
       "      <th>County of Collision</th>\n",
       "      <th>Unit Damage(in dollars)</th>\n",
       "    </tr>\n",
       "  </thead>\n",
       "  <tbody>\n",
       "    <tr>\n",
       "      <th>0</th>\n",
       "      <td>1.0</td>\n",
       "      <td>18000001</td>\n",
       "      <td>9</td>\n",
       "      <td>1500.0</td>\n",
       "    </tr>\n",
       "    <tr>\n",
       "      <th>1</th>\n",
       "      <td>1.0</td>\n",
       "      <td>18000001</td>\n",
       "      <td>9</td>\n",
       "      <td>3000.0</td>\n",
       "    </tr>\n",
       "    <tr>\n",
       "      <th>2</th>\n",
       "      <td>1.0</td>\n",
       "      <td>18000002</td>\n",
       "      <td>10</td>\n",
       "      <td>1000.0</td>\n",
       "    </tr>\n",
       "    <tr>\n",
       "      <th>3</th>\n",
       "      <td>1.0</td>\n",
       "      <td>18000002</td>\n",
       "      <td>10</td>\n",
       "      <td>1000.0</td>\n",
       "    </tr>\n",
       "    <tr>\n",
       "      <th>4</th>\n",
       "      <td>0.0</td>\n",
       "      <td>18000003</td>\n",
       "      <td>10</td>\n",
       "      <td>5000.0</td>\n",
       "    </tr>\n",
       "  </tbody>\n",
       "</table>\n",
       "</div>"
      ],
      "text/plain": [
       "   Number of Non-Fatal Injuries  Collision Number  County of Collision  \\\n",
       "0                           1.0          18000001                    9   \n",
       "1                           1.0          18000001                    9   \n",
       "2                           1.0          18000002                   10   \n",
       "3                           1.0          18000002                   10   \n",
       "4                           0.0          18000003                   10   \n",
       "\n",
       "   Unit Damage(in dollars)  \n",
       "0                   1500.0  \n",
       "1                   3000.0  \n",
       "2                   1000.0  \n",
       "3                   1000.0  \n",
       "4                   5000.0  "
      ]
     },
     "execution_count": 45,
     "metadata": {},
     "output_type": "execute_result"
    }
   ],
   "source": [
    "total2018 = pd.merge(loc2018, unt2018, on='Collision Number')\n",
    "total2018.head()"
   ]
  },
  {
   "cell_type": "code",
   "execution_count": 46,
   "id": "ccd373b0",
   "metadata": {},
   "outputs": [
    {
     "data": {
      "text/html": [
       "<div>\n",
       "<style scoped>\n",
       "    .dataframe tbody tr th:only-of-type {\n",
       "        vertical-align: middle;\n",
       "    }\n",
       "\n",
       "    .dataframe tbody tr th {\n",
       "        vertical-align: top;\n",
       "    }\n",
       "\n",
       "    .dataframe thead th {\n",
       "        text-align: right;\n",
       "    }\n",
       "</style>\n",
       "<table border=\"1\" class=\"dataframe\">\n",
       "  <thead>\n",
       "    <tr style=\"text-align: right;\">\n",
       "      <th></th>\n",
       "      <th>Number of Non-Fatal Injuries</th>\n",
       "      <th>Collision Number</th>\n",
       "      <th>County of Collision</th>\n",
       "      <th>Unit Damage(in dollars)</th>\n",
       "    </tr>\n",
       "  </thead>\n",
       "  <tbody>\n",
       "    <tr>\n",
       "      <th>0</th>\n",
       "      <td>1.0</td>\n",
       "      <td>21000003</td>\n",
       "      <td>2</td>\n",
       "      <td>50.0</td>\n",
       "    </tr>\n",
       "    <tr>\n",
       "      <th>1</th>\n",
       "      <td>1.0</td>\n",
       "      <td>21000003</td>\n",
       "      <td>2</td>\n",
       "      <td>100.0</td>\n",
       "    </tr>\n",
       "    <tr>\n",
       "      <th>2</th>\n",
       "      <td>0.0</td>\n",
       "      <td>21000004</td>\n",
       "      <td>2</td>\n",
       "      <td>500.0</td>\n",
       "    </tr>\n",
       "    <tr>\n",
       "      <th>3</th>\n",
       "      <td>0.0</td>\n",
       "      <td>21000004</td>\n",
       "      <td>2</td>\n",
       "      <td>1000.0</td>\n",
       "    </tr>\n",
       "    <tr>\n",
       "      <th>4</th>\n",
       "      <td>0.0</td>\n",
       "      <td>21000005</td>\n",
       "      <td>2</td>\n",
       "      <td>3000.0</td>\n",
       "    </tr>\n",
       "  </tbody>\n",
       "</table>\n",
       "</div>"
      ],
      "text/plain": [
       "   Number of Non-Fatal Injuries  Collision Number  County of Collision  \\\n",
       "0                           1.0          21000003                    2   \n",
       "1                           1.0          21000003                    2   \n",
       "2                           0.0          21000004                    2   \n",
       "3                           0.0          21000004                    2   \n",
       "4                           0.0          21000005                    2   \n",
       "\n",
       "   Unit Damage(in dollars)  \n",
       "0                     50.0  \n",
       "1                    100.0  \n",
       "2                    500.0  \n",
       "3                   1000.0  \n",
       "4                   3000.0  "
      ]
     },
     "execution_count": 46,
     "metadata": {},
     "output_type": "execute_result"
    }
   ],
   "source": [
    "total2021 = pd.merge(loc2021, unt2021, on='Collision Number')\n",
    "total2021.head()"
   ]
  },
  {
   "cell_type": "code",
   "execution_count": 47,
   "id": "679c785a",
   "metadata": {},
   "outputs": [
    {
     "data": {
      "text/html": [
       "<div>\n",
       "<style scoped>\n",
       "    .dataframe tbody tr th:only-of-type {\n",
       "        vertical-align: middle;\n",
       "    }\n",
       "\n",
       "    .dataframe tbody tr th {\n",
       "        vertical-align: top;\n",
       "    }\n",
       "\n",
       "    .dataframe thead th {\n",
       "        text-align: right;\n",
       "    }\n",
       "</style>\n",
       "<table border=\"1\" class=\"dataframe\">\n",
       "  <thead>\n",
       "    <tr style=\"text-align: right;\">\n",
       "      <th></th>\n",
       "      <th>Number of Non-Fatal Injuries</th>\n",
       "      <th>Collision Number</th>\n",
       "      <th>County of Collision</th>\n",
       "      <th>Unit Damage(in dollars)</th>\n",
       "    </tr>\n",
       "  </thead>\n",
       "  <tbody>\n",
       "    <tr>\n",
       "      <th>0</th>\n",
       "      <td>26000.0</td>\n",
       "      <td>18000001</td>\n",
       "      <td>9</td>\n",
       "      <td>1500.0</td>\n",
       "    </tr>\n",
       "    <tr>\n",
       "      <th>1</th>\n",
       "      <td>26000.0</td>\n",
       "      <td>18000001</td>\n",
       "      <td>9</td>\n",
       "      <td>3000.0</td>\n",
       "    </tr>\n",
       "    <tr>\n",
       "      <th>2</th>\n",
       "      <td>26000.0</td>\n",
       "      <td>18000002</td>\n",
       "      <td>10</td>\n",
       "      <td>1000.0</td>\n",
       "    </tr>\n",
       "    <tr>\n",
       "      <th>3</th>\n",
       "      <td>26000.0</td>\n",
       "      <td>18000002</td>\n",
       "      <td>10</td>\n",
       "      <td>1000.0</td>\n",
       "    </tr>\n",
       "    <tr>\n",
       "      <th>4</th>\n",
       "      <td>7100.0</td>\n",
       "      <td>18000003</td>\n",
       "      <td>10</td>\n",
       "      <td>5000.0</td>\n",
       "    </tr>\n",
       "  </tbody>\n",
       "</table>\n",
       "</div>"
      ],
      "text/plain": [
       "   Number of Non-Fatal Injuries  Collision Number  County of Collision  \\\n",
       "0                       26000.0          18000001                    9   \n",
       "1                       26000.0          18000001                    9   \n",
       "2                       26000.0          18000002                   10   \n",
       "3                       26000.0          18000002                   10   \n",
       "4                        7100.0          18000003                   10   \n",
       "\n",
       "   Unit Damage(in dollars)  \n",
       "0                   1500.0  \n",
       "1                   3000.0  \n",
       "2                   1000.0  \n",
       "3                   1000.0  \n",
       "4                   5000.0  "
      ]
     },
     "execution_count": 47,
     "metadata": {},
     "output_type": "execute_result"
    }
   ],
   "source": [
    "total2018['Number of Non-Fatal Injuries'].replace(0.0, 7100, inplace = True)\n",
    "total2018['Number of Non-Fatal Injuries'].replace(1.0, 26000, inplace = True)\n",
    "total2018['Number of Non-Fatal Injuries'].replace(2.0, 42000, inplace = True)\n",
    "total2018['Number of Non-Fatal Injuries'].replace(3.0, 42000, inplace = True)\n",
    "total2018['Number of Non-Fatal Injuries'].replace(4.0, 42000, inplace = True)\n",
    "total2018['Number of Non-Fatal Injuries'].replace(5.0, 42000, inplace = True)\n",
    "total2018['Number of Non-Fatal Injuries'].replace(6.0, 42000, inplace = True)\n",
    "total2018['Number of Non-Fatal Injuries'].replace(7.0, 42000, inplace = True)\n",
    "total2018['Number of Non-Fatal Injuries'].replace(8.0, 42000, inplace = True)\n",
    "total2018['Number of Non-Fatal Injuries'].replace(9.0, 42000, inplace = True)\n",
    "total2018['Number of Non-Fatal Injuries'].replace(10.0, 42000, inplace = True)\n",
    "total2018['Number of Non-Fatal Injuries'].replace(11.0, 42000, inplace = True)\n",
    "total2018['Number of Non-Fatal Injuries'].replace(32.0, 162000, inplace = True)\n",
    "#total2018 = total2018.set_index('Collision Number')\n",
    "total2018.head()"
   ]
  },
  {
   "cell_type": "code",
   "execution_count": 48,
   "id": "c2b920ed",
   "metadata": {},
   "outputs": [
    {
     "data": {
      "text/html": [
       "<div>\n",
       "<style scoped>\n",
       "    .dataframe tbody tr th:only-of-type {\n",
       "        vertical-align: middle;\n",
       "    }\n",
       "\n",
       "    .dataframe tbody tr th {\n",
       "        vertical-align: top;\n",
       "    }\n",
       "\n",
       "    .dataframe thead th {\n",
       "        text-align: right;\n",
       "    }\n",
       "</style>\n",
       "<table border=\"1\" class=\"dataframe\">\n",
       "  <thead>\n",
       "    <tr style=\"text-align: right;\">\n",
       "      <th></th>\n",
       "      <th>Number of Non-Fatal Injuries</th>\n",
       "      <th>Collision Number</th>\n",
       "      <th>County of Collision</th>\n",
       "      <th>Unit Damage(in dollars)</th>\n",
       "    </tr>\n",
       "  </thead>\n",
       "  <tbody>\n",
       "    <tr>\n",
       "      <th>0</th>\n",
       "      <td>26000.0</td>\n",
       "      <td>21000003</td>\n",
       "      <td>2</td>\n",
       "      <td>50.0</td>\n",
       "    </tr>\n",
       "    <tr>\n",
       "      <th>1</th>\n",
       "      <td>26000.0</td>\n",
       "      <td>21000003</td>\n",
       "      <td>2</td>\n",
       "      <td>100.0</td>\n",
       "    </tr>\n",
       "    <tr>\n",
       "      <th>2</th>\n",
       "      <td>7100.0</td>\n",
       "      <td>21000004</td>\n",
       "      <td>2</td>\n",
       "      <td>500.0</td>\n",
       "    </tr>\n",
       "    <tr>\n",
       "      <th>3</th>\n",
       "      <td>7100.0</td>\n",
       "      <td>21000004</td>\n",
       "      <td>2</td>\n",
       "      <td>1000.0</td>\n",
       "    </tr>\n",
       "    <tr>\n",
       "      <th>4</th>\n",
       "      <td>7100.0</td>\n",
       "      <td>21000005</td>\n",
       "      <td>2</td>\n",
       "      <td>3000.0</td>\n",
       "    </tr>\n",
       "  </tbody>\n",
       "</table>\n",
       "</div>"
      ],
      "text/plain": [
       "   Number of Non-Fatal Injuries  Collision Number  County of Collision  \\\n",
       "0                       26000.0          21000003                    2   \n",
       "1                       26000.0          21000003                    2   \n",
       "2                        7100.0          21000004                    2   \n",
       "3                        7100.0          21000004                    2   \n",
       "4                        7100.0          21000005                    2   \n",
       "\n",
       "   Unit Damage(in dollars)  \n",
       "0                     50.0  \n",
       "1                    100.0  \n",
       "2                    500.0  \n",
       "3                   1000.0  \n",
       "4                   3000.0  "
      ]
     },
     "execution_count": 48,
     "metadata": {},
     "output_type": "execute_result"
    }
   ],
   "source": [
    "total2021['Number of Non-Fatal Injuries'].replace(0.0, 7100, inplace = True)\n",
    "total2021['Number of Non-Fatal Injuries'].replace(1.0, 26000, inplace = True)\n",
    "total2021['Number of Non-Fatal Injuries'].replace(2.0, 42000, inplace = True)\n",
    "total2021['Number of Non-Fatal Injuries'].replace(3.0, 42000, inplace = True)\n",
    "total2021['Number of Non-Fatal Injuries'].replace(4.0, 42000, inplace = True)\n",
    "total2021['Number of Non-Fatal Injuries'].replace(5.0, 42000, inplace = True)\n",
    "total2021['Number of Non-Fatal Injuries'].replace(6.0, 42000, inplace = True)\n",
    "total2021['Number of Non-Fatal Injuries'].replace(7.0, 42000, inplace = True)\n",
    "total2021['Number of Non-Fatal Injuries'].replace(8.0, 42000, inplace = True)\n",
    "total2021['Number of Non-Fatal Injuries'].replace(9.0, 42000, inplace = True)\n",
    "total2021['Number of Non-Fatal Injuries'].replace(10.0, 42000, inplace = True)\n",
    "total2021['Number of Non-Fatal Injuries'].replace(11.0, 42000, inplace = True)\n",
    "total2021['Number of Non-Fatal Injuries'].replace(32.0, 162000, inplace = True)\n",
    "#total2021 = total2021.set_index('Collision Number')\n",
    "total2021.head()"
   ]
  },
  {
   "cell_type": "code",
   "execution_count": 49,
   "id": "552fd9ca",
   "metadata": {
    "scrolled": false
   },
   "outputs": [
    {
     "data": {
      "text/html": [
       "<div>\n",
       "<style scoped>\n",
       "    .dataframe tbody tr th:only-of-type {\n",
       "        vertical-align: middle;\n",
       "    }\n",
       "\n",
       "    .dataframe tbody tr th {\n",
       "        vertical-align: top;\n",
       "    }\n",
       "\n",
       "    .dataframe thead th {\n",
       "        text-align: right;\n",
       "    }\n",
       "</style>\n",
       "<table border=\"1\" class=\"dataframe\">\n",
       "  <thead>\n",
       "    <tr style=\"text-align: right;\">\n",
       "      <th></th>\n",
       "      <th>Number of Non-Fatal Injuries</th>\n",
       "      <th>Collision Number</th>\n",
       "      <th>County of Collision</th>\n",
       "      <th>Unit Damage(in dollars)</th>\n",
       "      <th>total</th>\n",
       "    </tr>\n",
       "  </thead>\n",
       "  <tbody>\n",
       "    <tr>\n",
       "      <th>0</th>\n",
       "      <td>26000.0</td>\n",
       "      <td>18000001</td>\n",
       "      <td>9</td>\n",
       "      <td>1500.0</td>\n",
       "      <td>27500.0</td>\n",
       "    </tr>\n",
       "    <tr>\n",
       "      <th>1</th>\n",
       "      <td>26000.0</td>\n",
       "      <td>18000001</td>\n",
       "      <td>9</td>\n",
       "      <td>3000.0</td>\n",
       "      <td>29000.0</td>\n",
       "    </tr>\n",
       "    <tr>\n",
       "      <th>2</th>\n",
       "      <td>26000.0</td>\n",
       "      <td>18000002</td>\n",
       "      <td>10</td>\n",
       "      <td>1000.0</td>\n",
       "      <td>27000.0</td>\n",
       "    </tr>\n",
       "    <tr>\n",
       "      <th>3</th>\n",
       "      <td>26000.0</td>\n",
       "      <td>18000002</td>\n",
       "      <td>10</td>\n",
       "      <td>1000.0</td>\n",
       "      <td>27000.0</td>\n",
       "    </tr>\n",
       "    <tr>\n",
       "      <th>4</th>\n",
       "      <td>7100.0</td>\n",
       "      <td>18000003</td>\n",
       "      <td>10</td>\n",
       "      <td>5000.0</td>\n",
       "      <td>12100.0</td>\n",
       "    </tr>\n",
       "    <tr>\n",
       "      <th>...</th>\n",
       "      <td>...</td>\n",
       "      <td>...</td>\n",
       "      <td>...</td>\n",
       "      <td>...</td>\n",
       "      <td>...</td>\n",
       "    </tr>\n",
       "    <tr>\n",
       "      <th>269747</th>\n",
       "      <td>7100.0</td>\n",
       "      <td>18693235</td>\n",
       "      <td>21</td>\n",
       "      <td>10000.0</td>\n",
       "      <td>17100.0</td>\n",
       "    </tr>\n",
       "    <tr>\n",
       "      <th>269748</th>\n",
       "      <td>7100.0</td>\n",
       "      <td>18693236</td>\n",
       "      <td>10</td>\n",
       "      <td>5000.0</td>\n",
       "      <td>12100.0</td>\n",
       "    </tr>\n",
       "    <tr>\n",
       "      <th>269749</th>\n",
       "      <td>7100.0</td>\n",
       "      <td>18693236</td>\n",
       "      <td>10</td>\n",
       "      <td>6000.0</td>\n",
       "      <td>13100.0</td>\n",
       "    </tr>\n",
       "    <tr>\n",
       "      <th>269750</th>\n",
       "      <td>7100.0</td>\n",
       "      <td>18693237</td>\n",
       "      <td>10</td>\n",
       "      <td>5000.0</td>\n",
       "      <td>12100.0</td>\n",
       "    </tr>\n",
       "    <tr>\n",
       "      <th>269751</th>\n",
       "      <td>7100.0</td>\n",
       "      <td>18693237</td>\n",
       "      <td>10</td>\n",
       "      <td>5000.0</td>\n",
       "      <td>12100.0</td>\n",
       "    </tr>\n",
       "  </tbody>\n",
       "</table>\n",
       "<p>269752 rows × 5 columns</p>\n",
       "</div>"
      ],
      "text/plain": [
       "        Number of Non-Fatal Injuries  Collision Number  County of Collision  \\\n",
       "0                            26000.0          18000001                    9   \n",
       "1                            26000.0          18000001                    9   \n",
       "2                            26000.0          18000002                   10   \n",
       "3                            26000.0          18000002                   10   \n",
       "4                             7100.0          18000003                   10   \n",
       "...                              ...               ...                  ...   \n",
       "269747                        7100.0          18693235                   21   \n",
       "269748                        7100.0          18693236                   10   \n",
       "269749                        7100.0          18693236                   10   \n",
       "269750                        7100.0          18693237                   10   \n",
       "269751                        7100.0          18693237                   10   \n",
       "\n",
       "        Unit Damage(in dollars)    total  \n",
       "0                        1500.0  27500.0  \n",
       "1                        3000.0  29000.0  \n",
       "2                        1000.0  27000.0  \n",
       "3                        1000.0  27000.0  \n",
       "4                        5000.0  12100.0  \n",
       "...                         ...      ...  \n",
       "269747                  10000.0  17100.0  \n",
       "269748                   5000.0  12100.0  \n",
       "269749                   6000.0  13100.0  \n",
       "269750                   5000.0  12100.0  \n",
       "269751                   5000.0  12100.0  \n",
       "\n",
       "[269752 rows x 5 columns]"
      ]
     },
     "execution_count": 49,
     "metadata": {},
     "output_type": "execute_result"
    }
   ],
   "source": [
    "total2018['total'] = total2018['Number of Non-Fatal Injuries'] + total2018['Unit Damage(in dollars)']\n",
    "total2018"
   ]
  },
  {
   "cell_type": "code",
   "execution_count": 50,
   "id": "c105797a",
   "metadata": {},
   "outputs": [
    {
     "data": {
      "text/html": [
       "<div>\n",
       "<style scoped>\n",
       "    .dataframe tbody tr th:only-of-type {\n",
       "        vertical-align: middle;\n",
       "    }\n",
       "\n",
       "    .dataframe tbody tr th {\n",
       "        vertical-align: top;\n",
       "    }\n",
       "\n",
       "    .dataframe thead th {\n",
       "        text-align: right;\n",
       "    }\n",
       "</style>\n",
       "<table border=\"1\" class=\"dataframe\">\n",
       "  <thead>\n",
       "    <tr style=\"text-align: right;\">\n",
       "      <th></th>\n",
       "      <th>Number of Non-Fatal Injuries</th>\n",
       "      <th>Collision Number</th>\n",
       "      <th>County of Collision</th>\n",
       "      <th>Unit Damage(in dollars)</th>\n",
       "      <th>total</th>\n",
       "    </tr>\n",
       "  </thead>\n",
       "  <tbody>\n",
       "    <tr>\n",
       "      <th>0</th>\n",
       "      <td>26000.0</td>\n",
       "      <td>21000003</td>\n",
       "      <td>2</td>\n",
       "      <td>50.0</td>\n",
       "      <td>26050.0</td>\n",
       "    </tr>\n",
       "    <tr>\n",
       "      <th>1</th>\n",
       "      <td>26000.0</td>\n",
       "      <td>21000003</td>\n",
       "      <td>2</td>\n",
       "      <td>100.0</td>\n",
       "      <td>26100.0</td>\n",
       "    </tr>\n",
       "    <tr>\n",
       "      <th>2</th>\n",
       "      <td>7100.0</td>\n",
       "      <td>21000004</td>\n",
       "      <td>2</td>\n",
       "      <td>500.0</td>\n",
       "      <td>7600.0</td>\n",
       "    </tr>\n",
       "    <tr>\n",
       "      <th>3</th>\n",
       "      <td>7100.0</td>\n",
       "      <td>21000004</td>\n",
       "      <td>2</td>\n",
       "      <td>1000.0</td>\n",
       "      <td>8100.0</td>\n",
       "    </tr>\n",
       "    <tr>\n",
       "      <th>4</th>\n",
       "      <td>7100.0</td>\n",
       "      <td>21000005</td>\n",
       "      <td>2</td>\n",
       "      <td>3000.0</td>\n",
       "      <td>10100.0</td>\n",
       "    </tr>\n",
       "    <tr>\n",
       "      <th>...</th>\n",
       "      <td>...</td>\n",
       "      <td>...</td>\n",
       "      <td>...</td>\n",
       "      <td>...</td>\n",
       "      <td>...</td>\n",
       "    </tr>\n",
       "    <tr>\n",
       "      <th>274396</th>\n",
       "      <td>42000.0</td>\n",
       "      <td>21592227</td>\n",
       "      <td>20</td>\n",
       "      <td>10000.0</td>\n",
       "      <td>52000.0</td>\n",
       "    </tr>\n",
       "    <tr>\n",
       "      <th>274397</th>\n",
       "      <td>42000.0</td>\n",
       "      <td>21592227</td>\n",
       "      <td>20</td>\n",
       "      <td>5000.0</td>\n",
       "      <td>47000.0</td>\n",
       "    </tr>\n",
       "    <tr>\n",
       "      <th>274398</th>\n",
       "      <td>7100.0</td>\n",
       "      <td>22201210</td>\n",
       "      <td>4</td>\n",
       "      <td>2500.0</td>\n",
       "      <td>9600.0</td>\n",
       "    </tr>\n",
       "    <tr>\n",
       "      <th>274399</th>\n",
       "      <td>7100.0</td>\n",
       "      <td>22201210</td>\n",
       "      <td>4</td>\n",
       "      <td>3500.0</td>\n",
       "      <td>10600.0</td>\n",
       "    </tr>\n",
       "    <tr>\n",
       "      <th>274400</th>\n",
       "      <td>7100.0</td>\n",
       "      <td>22201210</td>\n",
       "      <td>4</td>\n",
       "      <td>4500.0</td>\n",
       "      <td>11600.0</td>\n",
       "    </tr>\n",
       "  </tbody>\n",
       "</table>\n",
       "<p>274401 rows × 5 columns</p>\n",
       "</div>"
      ],
      "text/plain": [
       "        Number of Non-Fatal Injuries  Collision Number  County of Collision  \\\n",
       "0                            26000.0          21000003                    2   \n",
       "1                            26000.0          21000003                    2   \n",
       "2                             7100.0          21000004                    2   \n",
       "3                             7100.0          21000004                    2   \n",
       "4                             7100.0          21000005                    2   \n",
       "...                              ...               ...                  ...   \n",
       "274396                       42000.0          21592227                   20   \n",
       "274397                       42000.0          21592227                   20   \n",
       "274398                        7100.0          22201210                    4   \n",
       "274399                        7100.0          22201210                    4   \n",
       "274400                        7100.0          22201210                    4   \n",
       "\n",
       "        Unit Damage(in dollars)    total  \n",
       "0                          50.0  26050.0  \n",
       "1                         100.0  26100.0  \n",
       "2                         500.0   7600.0  \n",
       "3                        1000.0   8100.0  \n",
       "4                        3000.0  10100.0  \n",
       "...                         ...      ...  \n",
       "274396                  10000.0  52000.0  \n",
       "274397                   5000.0  47000.0  \n",
       "274398                   2500.0   9600.0  \n",
       "274399                   3500.0  10600.0  \n",
       "274400                   4500.0  11600.0  \n",
       "\n",
       "[274401 rows x 5 columns]"
      ]
     },
     "execution_count": 50,
     "metadata": {},
     "output_type": "execute_result"
    }
   ],
   "source": [
    "total2021['total'] = total2021['Number of Non-Fatal Injuries'] + total2021['Unit Damage(in dollars)']\n",
    "total2021"
   ]
  },
  {
   "cell_type": "code",
   "execution_count": 60,
   "id": "29b0f9da",
   "metadata": {
    "scrolled": false
   },
   "outputs": [
    {
     "data": {
      "application/vnd.jupyter.widget-view+json": {
       "model_id": "2127ca987ecd4d6f8cc8ecd569f882a1",
       "version_major": 2,
       "version_minor": 0
      },
      "text/plain": [
       "interactive(children=(Dropdown(description='county', options=('1', '2', '3', '4', '5', '6', '7', '8', '9', '10…"
      ]
     },
     "metadata": {},
     "output_type": "display_data"
    },
    {
     "data": {
      "text/plain": [
       "<function __main__.county_boxplot(county)>"
      ]
     },
     "execution_count": 60,
     "metadata": {},
     "output_type": "execute_result"
    }
   ],
   "source": [
    "def county_boxplot(county):\n",
    "    df_filtered= total2021.loc[total2021['County of Collision'] == int(county)] \n",
    "    ax = df_filtered.boxplot(column=\"total\", return_type='axes')\n",
    "    #ax[\"County of Collision\"].set_title(\"County Number: \" + county)\n",
    "    #print(df_filtered)\n",
    "    \n",
    "days = [str(day) for day in range(1,47)]\n",
    "\n",
    "interact(county_boxplot, county=days)"
   ]
  },
  {
   "cell_type": "code",
   "execution_count": 49,
   "id": "dfcaae62",
   "metadata": {
    "scrolled": false
   },
   "outputs": [
    {
     "data": {
      "text/plain": [
       "(array([1.85612e+05, 9.63900e+03, 4.55590e+04, 1.88460e+04, 9.40400e+03,\n",
       "        3.64000e+02, 9.30000e+01, 3.20000e+01, 1.90000e+01, 1.20000e+01,\n",
       "        6.00000e+00, 8.00000e+00, 3.00000e+00, 3.00000e+00, 1.00000e+00,\n",
       "        0.00000e+00, 4.00000e+00, 1.00000e+00, 2.00000e+00, 1.00000e+00]),\n",
       " array([  1512. ,  12791.4,  24070.8,  35350.2,  46629.6,  57909. ,\n",
       "         69188.4,  80467.8,  91747.2, 103026.6, 114306. , 125585.4,\n",
       "        136864.8, 148144.2, 159423.6, 170703. , 181982.4, 193261.8,\n",
       "        204541.2, 215820.6, 227100. ]),\n",
       " <BarContainer object of 20 artists>)"
      ]
     },
     "execution_count": 49,
     "metadata": {},
     "output_type": "execute_result"
    },
    {
     "data": {
      "image/png": "[encoded data removed]",
      "text/plain": [
       "<Figure size 640x480 with 1 Axes>"
      ]
     },
     "metadata": {},
     "output_type": "display_data"
    }
   ],
   "source": [
    "plt.hist(total2018['total'], bins=20, edgecolor='black') "
   ]
  },
  {
   "cell_type": "code",
   "execution_count": 50,
   "id": "6e6fefd5",
   "metadata": {},
   "outputs": [
    {
     "data": {
      "text/plain": [
       "(array([2.43267e+05, 2.97040e+04, 6.25000e+02, 5.70000e+01, 2.30000e+01,\n",
       "        1.10000e+01, 7.00000e+00, 8.00000e+00, 1.00000e+00, 3.00000e+00,\n",
       "        3.00000e+00, 1.00000e+00, 3.00000e+00, 1.00000e+00, 0.00000e+00,\n",
       "        0.00000e+00, 0.00000e+00, 0.00000e+00, 0.00000e+00, 3.00000e+00]),\n",
       " array([  7100.,  33050.,  59000.,  84950., 110900., 136850., 162800.,\n",
       "        188750., 214700., 240650., 266600., 292550., 318500., 344450.,\n",
       "        370400., 396350., 422300., 448250., 474200., 500150., 526100.]),\n",
       " <BarContainer object of 20 artists>)"
      ]
     },
     "execution_count": 50,
     "metadata": {},
     "output_type": "execute_result"
    },
    {
     "data": {
      "image/png": "[encoded data removed]",
      "text/plain": [
       "<Figure size 640x480 with 1 Axes>"
      ]
     },
     "metadata": {},
     "output_type": "display_data"
    }
   ],
   "source": [
    "plt.hist(total2021['total'], bins=20, edgecolor='black') "
   ]
  },
  {
   "cell_type": "code",
   "execution_count": 51,
   "id": "a24c76b4",
   "metadata": {},
   "outputs": [
    {
     "data": {
      "text/plain": [
       "1512.0"
      ]
     },
     "execution_count": 51,
     "metadata": {},
     "output_type": "execute_result"
    }
   ],
   "source": [
    "total2018['total'].min()"
   ]
  },
  {
   "cell_type": "code",
   "execution_count": 52,
   "id": "48437d4a",
   "metadata": {},
   "outputs": [
    {
     "data": {
      "text/plain": [
       "227100.0"
      ]
     },
     "execution_count": 52,
     "metadata": {},
     "output_type": "execute_result"
    }
   ],
   "source": [
    "total2018['total'].max()"
   ]
  },
  {
   "cell_type": "code",
   "execution_count": 53,
   "id": "e397da33",
   "metadata": {},
   "outputs": [
    {
     "data": {
      "text/plain": [
       "7100.0"
      ]
     },
     "execution_count": 53,
     "metadata": {},
     "output_type": "execute_result"
    }
   ],
   "source": [
    "total2021['total'].min()"
   ]
  },
  {
   "cell_type": "code",
   "execution_count": 54,
   "id": "74babe59",
   "metadata": {},
   "outputs": [
    {
     "data": {
      "text/plain": [
       "526100.0"
      ]
     },
     "execution_count": 54,
     "metadata": {},
     "output_type": "execute_result"
    }
   ],
   "source": [
    "total2021['total'].max()"
   ]
  },
  {
   "cell_type": "code",
   "execution_count": 55,
   "id": "dc9d87f1",
   "metadata": {},
   "outputs": [
    {
     "data": {
      "text/plain": [
       "16313.800407256434"
      ]
     },
     "execution_count": 55,
     "metadata": {},
     "output_type": "execute_result"
    }
   ],
   "source": [
    "total2018['total'].mean()"
   ]
  },
  {
   "cell_type": "code",
   "execution_count": 56,
   "id": "b22035c2",
   "metadata": {},
   "outputs": [
    {
     "data": {
      "text/plain": [
       "16196.649302016316"
      ]
     },
     "execution_count": 56,
     "metadata": {},
     "output_type": "execute_result"
    }
   ],
   "source": [
    "total2021['total'].mean()"
   ]
  },
  {
   "cell_type": "code",
   "execution_count": null,
   "id": "f8dca574",
   "metadata": {},
   "outputs": [],
   "source": []
  }
 ],
 "metadata": {
  "kernelspec": {
   "display_name": "Python 3 (ipykernel)",
   "language": "python",
   "name": "python3"
  },
  "language_info": {
   "codemirror_mode": {
    "name": "ipython",
    "version": 3
   },
   "file_extension": ".py",
   "mimetype": "text/x-python",
   "name": "python",
   "nbconvert_exporter": "python",
   "pygments_lexer": "ipython3",
   "version": "3.11.7"
  }
 },
 "nbformat": 4,
 "nbformat_minor": 5
}
