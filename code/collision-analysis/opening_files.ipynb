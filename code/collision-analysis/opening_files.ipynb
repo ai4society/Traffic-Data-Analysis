{
 "cells": [
  {
   "cell_type": "code",
   "execution_count": null,
   "id": "50578818",
   "metadata": {},
   "outputs": [],
   "source": [
    "import sas7bdat_converter\n",
    "import glob\n",
    "import os"
   ]
  },
  {
   "cell_type": "code",
   "execution_count": null,
   "id": "d99e914f",
   "metadata": {},
   "outputs": [],
   "source": [
    "files = glob.glob('usc_data/*.sas7bdat') # location for the downloaded sas7bdat files\n",
    "\n",
    "files_dict = [\n",
    "    {'sas7bdat_file': file, 'export_file': file.replace('.sas7bdat', '.csv')} for file in files\n",
    "]"
   ]
  },
  {
   "cell_type": "code",
   "execution_count": null,
   "id": "434b1774",
   "metadata": {},
   "outputs": [],
   "source": [
    "files_dict"
   ]
  },
  {
   "cell_type": "code",
   "execution_count": null,
   "id": "87a00928",
   "metadata": {},
   "outputs": [],
   "source": [
    "sas7bdat_converter.batch_to_csv(files_dict)"
   ]
  }
 ],
 "metadata": {
  "kernelspec": {
   "display_name": "Python 3 (ipykernel)",
   "language": "python",
   "name": "python3"
  },
  "language_info": {
   "codemirror_mode": {
    "name": "ipython",
    "version": 3
   },
   "file_extension": ".py",
   "mimetype": "text/x-python",
   "name": "python",
   "nbconvert_exporter": "python",
   "pygments_lexer": "ipython3",
   "version": "3.11.7"
  }
 },
 "nbformat": 4,
 "nbformat_minor": 5
}
